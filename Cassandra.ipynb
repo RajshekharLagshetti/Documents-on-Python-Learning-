{
 "cells": [
  {
   "cell_type": "code",
   "execution_count": 1,
   "id": "19553d97-e933-4521-9802-e2cf22b4c518",
   "metadata": {},
   "outputs": [
    {
     "name": "stdout",
     "output_type": "stream",
     "text": [
      "Collecting astrapy\n",
      "  Downloading astrapy-0.7.7-py3-none-any.whl (32 kB)\n",
      "Collecting cassio<0.2.0,>=0.1.4 (from astrapy)\n",
      "  Downloading cassio-0.1.5-py3-none-any.whl (41 kB)\n",
      "                                              0.0/41.3 kB ? eta -:--:--\n",
      "     ---------------------------------------- 41.3/41.3 kB 2.1 MB/s eta 0:00:00\n",
      "Collecting deprecation<2.2.0,>=2.1.0 (from astrapy)\n",
      "  Downloading deprecation-2.1.0-py2.py3-none-any.whl (11 kB)\n",
      "Collecting httpx[http2]<1,>=0.25.2 (from astrapy)\n",
      "  Downloading httpx-0.27.0-py3-none-any.whl (75 kB)\n",
      "                                              0.0/75.6 kB ? eta -:--:--\n",
      "                                              0.0/75.6 kB ? eta -:--:--\n",
      "     --------------------------------         61.4/75.6 kB ? eta -:--:--\n",
      "     ---------------------------------------- 75.6/75.6 kB 1.4 MB/s eta 0:00:00\n",
      "Collecting toml<0.11.0,>=0.10.2 (from astrapy)\n",
      "  Downloading toml-0.10.2-py2.py3-none-any.whl (16 kB)\n",
      "Collecting cassandra-driver>=3.28.0 (from cassio<0.2.0,>=0.1.4->astrapy)\n",
      "  Downloading cassandra_driver-3.29.1-cp311-cp311-win_amd64.whl (2.7 MB)\n",
      "                                              0.0/2.7 MB ? eta -:--:--\n",
      "                                              0.1/2.7 MB ? eta -:--:--\n",
      "     -                                        0.1/2.7 MB 1.8 MB/s eta 0:00:02\n",
      "     -                                        0.1/2.7 MB 1.8 MB/s eta 0:00:02\n",
      "     ---                                      0.2/2.7 MB 1.4 MB/s eta 0:00:02\n",
      "     ---                                      0.2/2.7 MB 1.4 MB/s eta 0:00:02\n",
      "     ---                                      0.3/2.7 MB 1.0 MB/s eta 0:00:03\n",
      "     ----                                     0.3/2.7 MB 948.8 kB/s eta 0:00:03\n",
      "     ----                                     0.3/2.7 MB 999.0 kB/s eta 0:00:03\n",
      "     -----                                    0.4/2.7 MB 969.0 kB/s eta 0:00:03\n",
      "     -----                                    0.4/2.7 MB 969.0 kB/s eta 0:00:03\n",
      "     ------                                   0.5/2.7 MB 907.9 kB/s eta 0:00:03\n",
      "     ------                                   0.5/2.7 MB 929.0 kB/s eta 0:00:03\n",
      "     --------                                 0.6/2.7 MB 982.2 kB/s eta 0:00:03\n",
      "     --------                                 0.6/2.7 MB 982.2 kB/s eta 0:00:03\n",
      "     ---------                                0.7/2.7 MB 1.0 MB/s eta 0:00:03\n",
      "     ----------                               0.7/2.7 MB 1.0 MB/s eta 0:00:02\n",
      "     ----------                               0.7/2.7 MB 989.2 kB/s eta 0:00:02\n",
      "     ------------                             0.8/2.7 MB 1.0 MB/s eta 0:00:02\n",
      "     ------------                             0.8/2.7 MB 1.0 MB/s eta 0:00:02\n",
      "     -------------                            0.9/2.7 MB 1.1 MB/s eta 0:00:02\n",
      "     -------------                            0.9/2.7 MB 1.1 MB/s eta 0:00:02\n",
      "     ---------------                          1.0/2.7 MB 1.1 MB/s eta 0:00:02\n",
      "     ----------------                         1.1/2.7 MB 1.1 MB/s eta 0:00:02\n",
      "     -----------------                        1.2/2.7 MB 1.1 MB/s eta 0:00:02\n",
      "     ------------------                       1.3/2.7 MB 1.1 MB/s eta 0:00:02\n",
      "     ------------------                       1.3/2.7 MB 1.1 MB/s eta 0:00:02\n",
      "     --------------------                     1.4/2.7 MB 1.1 MB/s eta 0:00:02\n",
      "     ----------------------                   1.5/2.7 MB 1.2 MB/s eta 0:00:02\n",
      "     ----------------------                   1.5/2.7 MB 1.2 MB/s eta 0:00:01\n",
      "     ------------------------                 1.7/2.7 MB 1.2 MB/s eta 0:00:01\n",
      "     -------------------------                1.8/2.7 MB 1.2 MB/s eta 0:00:01\n",
      "     ---------------------------              1.8/2.7 MB 1.3 MB/s eta 0:00:01\n",
      "     ----------------------------             1.9/2.7 MB 1.3 MB/s eta 0:00:01\n",
      "     -----------------------------            2.0/2.7 MB 1.3 MB/s eta 0:00:01\n",
      "     ------------------------------           2.1/2.7 MB 1.3 MB/s eta 0:00:01\n",
      "     --------------------------------         2.2/2.7 MB 1.3 MB/s eta 0:00:01\n",
      "     --------------------------------         2.2/2.7 MB 1.3 MB/s eta 0:00:01\n",
      "     -----------------------------------      2.4/2.7 MB 1.4 MB/s eta 0:00:01\n",
      "     -----------------------------------      2.4/2.7 MB 1.4 MB/s eta 0:00:01\n",
      "     --------------------------------------   2.6/2.7 MB 1.4 MB/s eta 0:00:01\n",
      "     ---------------------------------------  2.7/2.7 MB 1.4 MB/s eta 0:00:01\n",
      "     ---------------------------------------  2.7/2.7 MB 1.4 MB/s eta 0:00:01\n",
      "     ---------------------------------------- 2.7/2.7 MB 1.4 MB/s eta 0:00:00\n",
      "Requirement already satisfied: numpy>=1.0 in c:\\users\\lenovo\\appdata\\local\\programs\\python\\python311\\lib\\site-packages (from cassio<0.2.0,>=0.1.4->astrapy) (1.26.4)\n",
      "Requirement already satisfied: requests>=2 in c:\\users\\lenovo\\appdata\\local\\programs\\python\\python311\\lib\\site-packages (from cassio<0.2.0,>=0.1.4->astrapy) (2.31.0)\n",
      "Requirement already satisfied: packaging in c:\\users\\lenovo\\appdata\\local\\programs\\python\\python311\\lib\\site-packages (from deprecation<2.2.0,>=2.1.0->astrapy) (23.2)\n",
      "Requirement already satisfied: anyio in c:\\users\\lenovo\\appdata\\local\\programs\\python\\python311\\lib\\site-packages (from httpx[http2]<1,>=0.25.2->astrapy) (4.2.0)\n",
      "Requirement already satisfied: certifi in c:\\users\\lenovo\\appdata\\local\\programs\\python\\python311\\lib\\site-packages (from httpx[http2]<1,>=0.25.2->astrapy) (2023.11.17)\n",
      "Collecting httpcore==1.* (from httpx[http2]<1,>=0.25.2->astrapy)\n",
      "  Downloading httpcore-1.0.4-py3-none-any.whl (77 kB)\n",
      "                                              0.0/77.8 kB ? eta -:--:--\n",
      "     ---------------                          30.7/77.8 kB ? eta -:--:--\n",
      "     ---------------------------------------- 77.8/77.8 kB 1.1 MB/s eta 0:00:00\n",
      "Requirement already satisfied: idna in c:\\users\\lenovo\\appdata\\local\\programs\\python\\python311\\lib\\site-packages (from httpx[http2]<1,>=0.25.2->astrapy) (3.6)\n",
      "Requirement already satisfied: sniffio in c:\\users\\lenovo\\appdata\\local\\programs\\python\\python311\\lib\\site-packages (from httpx[http2]<1,>=0.25.2->astrapy) (1.3.0)\n",
      "Collecting h2<5,>=3 (from httpx[http2]<1,>=0.25.2->astrapy)\n",
      "  Downloading h2-4.1.0-py3-none-any.whl (57 kB)\n",
      "                                              0.0/57.5 kB ? eta -:--:--\n",
      "     ---------------------------------------- 57.5/57.5 kB 3.0 MB/s eta 0:00:00\n",
      "Collecting h11<0.15,>=0.13 (from httpcore==1.*->httpx[http2]<1,>=0.25.2->astrapy)\n",
      "  Downloading h11-0.14.0-py3-none-any.whl (58 kB)\n",
      "                                              0.0/58.3 kB ? eta -:--:--\n",
      "     ---------------------------------------- 58.3/58.3 kB 3.2 MB/s eta 0:00:00\n",
      "Collecting geomet<0.3,>=0.1 (from cassandra-driver>=3.28.0->cassio<0.2.0,>=0.1.4->astrapy)\n",
      "  Downloading geomet-0.2.1.post1-py3-none-any.whl (18 kB)\n",
      "Collecting hyperframe<7,>=6.0 (from h2<5,>=3->httpx[http2]<1,>=0.25.2->astrapy)\n",
      "  Downloading hyperframe-6.0.1-py3-none-any.whl (12 kB)\n",
      "Collecting hpack<5,>=4.0 (from h2<5,>=3->httpx[http2]<1,>=0.25.2->astrapy)\n",
      "  Downloading hpack-4.0.0-py3-none-any.whl (32 kB)\n",
      "Requirement already satisfied: charset-normalizer<4,>=2 in c:\\users\\lenovo\\appdata\\local\\programs\\python\\python311\\lib\\site-packages (from requests>=2->cassio<0.2.0,>=0.1.4->astrapy) (3.3.2)\n",
      "Requirement already satisfied: urllib3<3,>=1.21.1 in c:\\users\\lenovo\\appdata\\local\\programs\\python\\python311\\lib\\site-packages (from requests>=2->cassio<0.2.0,>=0.1.4->astrapy) (2.2.0)\n",
      "Collecting click (from geomet<0.3,>=0.1->cassandra-driver>=3.28.0->cassio<0.2.0,>=0.1.4->astrapy)\n",
      "  Downloading click-8.1.7-py3-none-any.whl (97 kB)\n",
      "                                              0.0/97.9 kB ? eta -:--:--\n",
      "     ---------------------------------------- 97.9/97.9 kB 2.8 MB/s eta 0:00:00\n",
      "Requirement already satisfied: six in c:\\users\\lenovo\\appdata\\local\\programs\\python\\python311\\lib\\site-packages (from geomet<0.3,>=0.1->cassandra-driver>=3.28.0->cassio<0.2.0,>=0.1.4->astrapy) (1.16.0)\n",
      "Requirement already satisfied: colorama in c:\\users\\lenovo\\appdata\\local\\programs\\python\\python311\\lib\\site-packages (from click->geomet<0.3,>=0.1->cassandra-driver>=3.28.0->cassio<0.2.0,>=0.1.4->astrapy) (0.4.6)\n",
      "Installing collected packages: toml, hyperframe, hpack, h11, deprecation, click, httpcore, h2, geomet, httpx, cassandra-driver, cassio, astrapy\n",
      "Successfully installed astrapy-0.7.7 cassandra-driver-3.29.1 cassio-0.1.5 click-8.1.7 deprecation-2.1.0 geomet-0.2.1.post1 h11-0.14.0 h2-4.1.0 hpack-4.0.0 httpcore-1.0.4 httpx-0.27.0 hyperframe-6.0.1 toml-0.10.2\n",
      "Note: you may need to restart the kernel to use updated packages.\n"
     ]
    },
    {
     "name": "stderr",
     "output_type": "stream",
     "text": [
      "\n",
      "[notice] A new release of pip is available: 23.1.2 -> 24.0\n",
      "[notice] To update, run: C:\\Users\\LENOVO\\AppData\\Local\\Programs\\Python\\Python311\\python.exe -m pip install --upgrade pip\n"
     ]
    }
   ],
   "source": [
    "pip install --upgrade astrapy"
   ]
  },
  {
   "cell_type": "code",
   "execution_count": 1,
   "id": "f5794fb1-65f6-41bc-a4a6-9369dbdefecb",
   "metadata": {},
   "outputs": [
    {
     "name": "stdout",
     "output_type": "stream",
     "text": [
      "Connected to Astra DB: {'status': {'collections': []}}\n"
     ]
    }
   ],
   "source": [
    "from astrapy.db import AstraDB\n",
    "\n",
    "# Initialize the client\n",
    "db = AstraDB(\n",
    "  token=\"AstraCS:HRZWaDlWENiqMXDyZGHogZcK:a297d5904327eff615ccaff79039985e4d6fec2b8ce61306e02ec21bc7ea42b3\",\n",
    "  api_endpoint=\"https://fb228f73-f695-4528-92ad-ec04c51f3c59-us-east-1.apps.astra.datastax.com\")\n",
    "\n",
    "print(f\"Connected to Astra DB: {db.get_collections()}\")"
   ]
  },
  {
   "cell_type": "code",
   "execution_count": 2,
   "id": "9777f408-c073-4533-97ad-d981bd60bb01",
   "metadata": {},
   "outputs": [
    {
     "data": {
      "text/plain": [
       "AstraDB[endpoint=\"https://fb228f73-f695-4528-92ad-ec04c51f3c59-us-east-1.apps.astra.datastax.com\", keyspace=\"default_keyspace\"]"
      ]
     },
     "execution_count": 2,
     "metadata": {},
     "output_type": "execute_result"
    }
   ],
   "source": [
    "db"
   ]
  },
  {
   "cell_type": "code",
   "execution_count": 3,
   "id": "65d329db-0728-4c08-bc56-7260ba4addaa",
   "metadata": {},
   "outputs": [
    {
     "name": "stdout",
     "output_type": "stream",
     "text": [
      "AstraDBCollection[astra_db=\"AstraDB[endpoint=\"https://fb228f73-f695-4528-92ad-ec04c51f3c59-us-east-1.apps.astra.datastax.com\", keyspace=\"default_keyspace\"]\", collection_name=\"vector_test\"]\n",
      "{'status': {'insertedIds': ['1', '3', '2']}}\n",
      "{'_id': '3', 'text': 'A deep learning display that controls your mood', '$vector': [0.1, 0.05, 0.08, 0.3, 0.6], '$similarity': 0.99444735}\n",
      "{'_id': '2', 'text': 'An AI quilt to help you sleep forever', '$vector': [0.45, 0.09, 0.01, 0.2, 0.11], '$similarity': 0.7967084}\n",
      "{'status': {'ok': 1}}\n"
     ]
    }
   ],
   "source": [
    "import os\n",
    "\n",
    "# Create a collection. The default similarity metric is \"cosine\".\n",
    "collection = db.create_collection(\"vector_test\", dimension=5, metric=\"cosine\")\n",
    "print(collection)\n",
    "\n",
    "# Insert documents into the collection\n",
    "documents = [\n",
    "    {\n",
    "        \"_id\": \"1\",\n",
    "        \"text\": \"ChatGPT integrated sneakers that talk to you\",\n",
    "        \"$vector\": [0.1, 0.15, 0.3, 0.12, 0.05],\n",
    "    },\n",
    "    {\n",
    "        \"_id\": \"2\",\n",
    "        \"text\": \"An AI quilt to help you sleep forever\",\n",
    "        \"$vector\": [0.45, 0.09, 0.01, 0.2, 0.11],\n",
    "    },\n",
    "    {\n",
    "        \"_id\": \"3\",\n",
    "        \"text\": \"A deep learning display that controls your mood\",\n",
    "        \"$vector\": [0.1, 0.05, 0.08, 0.3, 0.6],\n",
    "    },\n",
    "]\n",
    "res = collection.insert_many(documents)\n",
    "print(res)\n",
    "\n",
    "# Perform a similarity search\n",
    "query = [0.15, 0.1, 0.1, 0.35, 0.55]\n",
    "results = collection.vector_find(query, limit=2, fields={\"text\", \"$vector\"})\n",
    "\n",
    "for document in results:\n",
    "    print(document)\n",
    "\n",
    "# Delete the collection\n",
    "res = db.delete_collection(collection_name=\"vector_test\")\n",
    "print(res)"
   ]
  },
  {
   "cell_type": "code",
   "execution_count": 4,
   "id": "87d9ad2f-e43a-44ca-9b5f-5bc9ae328192",
   "metadata": {},
   "outputs": [
    {
     "name": "stdout",
     "output_type": "stream",
     "text": [
      "Requirement already satisfied: cassandra-driver in c:\\users\\lenovo\\appdata\\local\\programs\\python\\python311\\lib\\site-packages (3.29.1)Note: you may need to restart the kernel to use updated packages.\n",
      "\n",
      "Requirement already satisfied: geomet<0.3,>=0.1 in c:\\users\\lenovo\\appdata\\local\\programs\\python\\python311\\lib\\site-packages (from cassandra-driver) (0.2.1.post1)\n",
      "Requirement already satisfied: click in c:\\users\\lenovo\\appdata\\local\\programs\\python\\python311\\lib\\site-packages (from geomet<0.3,>=0.1->cassandra-driver) (8.1.7)\n",
      "Requirement already satisfied: six in c:\\users\\lenovo\\appdata\\local\\programs\\python\\python311\\lib\\site-packages (from geomet<0.3,>=0.1->cassandra-driver) (1.16.0)\n",
      "Requirement already satisfied: colorama in c:\\users\\lenovo\\appdata\\local\\programs\\python\\python311\\lib\\site-packages (from click->geomet<0.3,>=0.1->cassandra-driver) (0.4.6)\n"
     ]
    },
    {
     "name": "stderr",
     "output_type": "stream",
     "text": [
      "\n",
      "[notice] A new release of pip is available: 23.1.2 -> 24.0\n",
      "[notice] To update, run: C:\\Users\\LENOVO\\AppData\\Local\\Programs\\Python\\Python311\\python.exe -m pip install --upgrade pip\n"
     ]
    }
   ],
   "source": [
    "pip install cassandra-driver"
   ]
  },
  {
   "cell_type": "code",
   "execution_count": 6,
   "id": "34584b62-3011-4e07-8ce0-da00001eea86",
   "metadata": {},
   "outputs": [
    {
     "name": "stdout",
     "output_type": "stream",
     "text": [
      "3.29.1\n"
     ]
    }
   ],
   "source": [
    "import cassandra; print (cassandra.__version__)"
   ]
  },
  {
   "cell_type": "code",
   "execution_count": 7,
   "id": "1d733387-b03d-41d5-8129-ac4616127fbc",
   "metadata": {},
   "outputs": [
    {
     "name": "stdout",
     "output_type": "stream",
     "text": [
      "4.0.0.6816\n"
     ]
    }
   ],
   "source": [
    "from cassandra.cluster import Cluster\n",
    "from cassandra.auth import PlainTextAuthProvider\n",
    "import json\n",
    "\n",
    "# This secure connect bundle is autogenerated when you download your SCB, \n",
    "# if yours is different update the file name below\n",
    "cloud_config= {\n",
    "  'secure_connect_bundle': 'secure-connect-rajshekhar1998.zip'\n",
    "}\n",
    "\n",
    "# This token JSON file is autogenerated when you download your token, \n",
    "# if yours is different update the file name below\n",
    "with open(\"Rajshekhar1998-token.json\") as f:\n",
    "    secrets = json.load(f)\n",
    "\n",
    "CLIENT_ID = secrets[\"clientId\"]\n",
    "CLIENT_SECRET = secrets[\"secret\"]\n",
    "\n",
    "auth_provider = PlainTextAuthProvider(CLIENT_ID, CLIENT_SECRET)\n",
    "cluster = Cluster(cloud=cloud_config, auth_provider=auth_provider)\n",
    "session = cluster.connect()\n",
    "\n",
    "row = session.execute(\"select release_version from system.local\").one()\n",
    "if row:\n",
    "  print(row[0])\n",
    "else:\n",
    "  print(\"An error occurred.\")"
   ]
  },
  {
   "cell_type": "code",
   "execution_count": 11,
   "id": "bff6ba88-054d-45db-9ed6-cd26abe157b2",
   "metadata": {},
   "outputs": [
    {
     "ename": "Unauthorized",
     "evalue": "Error from server: code=2100 [Unauthorized] message=\"Missing correct permission on raj.: Keyspace management is currently only supported at https://astra.datastax.com/org/48720b21-2069-4810-9915-53e555a17511/database/475473ee-ebed-4dcb-8d0d-4e5a5abd1279\"",
     "output_type": "error",
     "traceback": [
      "\u001b[1;31m---------------------------------------------------------------------------\u001b[0m",
      "\u001b[1;31mUnauthorized\u001b[0m                              Traceback (most recent call last)",
      "Cell \u001b[1;32mIn[11], line 23\u001b[0m\n\u001b[0;32m     20\u001b[0m cluster \u001b[38;5;241m=\u001b[39m Cluster(cloud\u001b[38;5;241m=\u001b[39mcloud_config, auth_provider\u001b[38;5;241m=\u001b[39mauth_provider)\n\u001b[0;32m     21\u001b[0m session \u001b[38;5;241m=\u001b[39m cluster\u001b[38;5;241m.\u001b[39mconnect()\n\u001b[1;32m---> 23\u001b[0m row \u001b[38;5;241m=\u001b[39m \u001b[43msession\u001b[49m\u001b[38;5;241;43m.\u001b[39;49m\u001b[43mexecute\u001b[49m\u001b[43m(\u001b[49m\u001b[38;5;124;43m\"\u001b[39;49m\u001b[38;5;124;43mcreate keyspace raj with replication = \u001b[39;49m\u001b[38;5;124;43m{\u001b[39;49m\u001b[38;5;124;43m'\u001b[39;49m\u001b[38;5;124;43mclass\u001b[39;49m\u001b[38;5;124;43m'\u001b[39;49m\u001b[38;5;124;43m:\u001b[39;49m\u001b[38;5;124;43m'\u001b[39;49m\u001b[38;5;124;43mSimpleStrategy\u001b[39;49m\u001b[38;5;124;43m'\u001b[39;49m\u001b[38;5;124;43m,\u001b[39;49m\u001b[38;5;124;43m'\u001b[39;49m\u001b[38;5;124;43mreplication_factor\u001b[39;49m\u001b[38;5;124;43m'\u001b[39;49m\u001b[38;5;124;43m:1}\u001b[39;49m\u001b[38;5;124;43m\"\u001b[39;49m\u001b[43m)\u001b[49m\u001b[38;5;241m.\u001b[39mone()\n\u001b[0;32m     24\u001b[0m \u001b[38;5;28;01mif\u001b[39;00m row:\n\u001b[0;32m     25\u001b[0m   \u001b[38;5;28mprint\u001b[39m(row[\u001b[38;5;241m0\u001b[39m])\n",
      "File \u001b[1;32m~\\AppData\\Local\\Programs\\Python\\Python311\\Lib\\site-packages\\cassandra\\cluster.py:2677\u001b[0m, in \u001b[0;36mcassandra.cluster.Session.execute\u001b[1;34m()\u001b[0m\n",
      "File \u001b[1;32m~\\AppData\\Local\\Programs\\Python\\Python311\\Lib\\site-packages\\cassandra\\cluster.py:4956\u001b[0m, in \u001b[0;36mcassandra.cluster.ResponseFuture.result\u001b[1;34m()\u001b[0m\n",
      "\u001b[1;31mUnauthorized\u001b[0m: Error from server: code=2100 [Unauthorized] message=\"Missing correct permission on raj.: Keyspace management is currently only supported at https://astra.datastax.com/org/48720b21-2069-4810-9915-53e555a17511/database/475473ee-ebed-4dcb-8d0d-4e5a5abd1279\""
     ]
    }
   ],
   "source": [
    "from cassandra.cluster import Cluster\n",
    "from cassandra.auth import PlainTextAuthProvider\n",
    "import json\n",
    "\n",
    "# This secure connect bundle is autogenerated when you download your SCB, \n",
    "# if yours is different update the file name below\n",
    "cloud_config= {\n",
    "  'secure_connect_bundle': 'secure-connect-rajshekhar1998.zip'\n",
    "}\n",
    "\n",
    "# This token JSON file is autogenerated when you download your token, \n",
    "# if yours is different update the file name below\n",
    "with open(\"Rajshekhar1998-token.json\") as f:\n",
    "    secrets = json.load(f)\n",
    "\n",
    "CLIENT_ID = secrets[\"clientId\"]\n",
    "CLIENT_SECRET = secrets[\"secret\"]\n",
    "\n",
    "auth_provider = PlainTextAuthProvider(CLIENT_ID, CLIENT_SECRET)\n",
    "cluster = Cluster(cloud=cloud_config, auth_provider=auth_provider)\n",
    "session = cluster.connect()\n",
    "\n",
    "row = session.execute(\"create keyspace raj with replication = {'class':'SimpleStrategy','replication_factor':1}\").one()\n",
    "if row:\n",
    "  print(row[0])\n",
    "else:\n",
    "  print(\"An error occurred.\")"
   ]
  },
  {
   "cell_type": "code",
   "execution_count": 16,
   "id": "b9e6e241-c294-47d9-acbb-17d9b8686f21",
   "metadata": {},
   "outputs": [
    {
     "ename": "SyntaxException",
     "evalue": "<Error from server: code=2000 [Syntax error in CQL query] message=\"line 1:0 no viable alternative at input 'describe' ([describe]...)\">",
     "output_type": "error",
     "traceback": [
      "\u001b[1;31m---------------------------------------------------------------------------\u001b[0m",
      "\u001b[1;31mSyntaxException\u001b[0m                           Traceback (most recent call last)",
      "Cell \u001b[1;32mIn[16], line 23\u001b[0m\n\u001b[0;32m     20\u001b[0m cluster \u001b[38;5;241m=\u001b[39m Cluster(cloud\u001b[38;5;241m=\u001b[39mcloud_config, auth_provider\u001b[38;5;241m=\u001b[39mauth_provider)\n\u001b[0;32m     21\u001b[0m session \u001b[38;5;241m=\u001b[39m cluster\u001b[38;5;241m.\u001b[39mconnect()\n\u001b[1;32m---> 23\u001b[0m row \u001b[38;5;241m=\u001b[39m \u001b[43msession\u001b[49m\u001b[38;5;241;43m.\u001b[39;49m\u001b[43mexecute\u001b[49m\u001b[43m(\u001b[49m\u001b[38;5;124;43m\"\u001b[39;49m\u001b[38;5;124;43mdescribe cassandra\u001b[39;49m\u001b[38;5;124;43m\"\u001b[39;49m\u001b[43m)\u001b[49m\u001b[38;5;241m.\u001b[39mone()\n\u001b[0;32m     24\u001b[0m \u001b[38;5;28;01mif\u001b[39;00m row:\n\u001b[0;32m     25\u001b[0m   \u001b[38;5;28mprint\u001b[39m(row[\u001b[38;5;241m0\u001b[39m])\n",
      "File \u001b[1;32m~\\AppData\\Local\\Programs\\Python\\Python311\\Lib\\site-packages\\cassandra\\cluster.py:2677\u001b[0m, in \u001b[0;36mcassandra.cluster.Session.execute\u001b[1;34m()\u001b[0m\n",
      "File \u001b[1;32m~\\AppData\\Local\\Programs\\Python\\Python311\\Lib\\site-packages\\cassandra\\cluster.py:4956\u001b[0m, in \u001b[0;36mcassandra.cluster.ResponseFuture.result\u001b[1;34m()\u001b[0m\n",
      "\u001b[1;31mSyntaxException\u001b[0m: <Error from server: code=2000 [Syntax error in CQL query] message=\"line 1:0 no viable alternative at input 'describe' ([describe]...)\">"
     ]
    }
   ],
   "source": [
    "from cassandra.cluster import Cluster\n",
    "from cassandra.auth import PlainTextAuthProvider\n",
    "import json\n",
    "\n",
    "# This secure connect bundle is autogenerated when you download your SCB, \n",
    "# if yours is different update the file name below\n",
    "cloud_config= {\n",
    "  'secure_connect_bundle': 'secure-connect-rajshekhar1998.zip'\n",
    "}\n",
    "\n",
    "# This token JSON file is autogenerated when you download your token, \n",
    "# if yours is different update the file name below\n",
    "with open(\"Rajshekhar1998-token.json\") as f:\n",
    "    secrets = json.load(f)\n",
    "\n",
    "CLIENT_ID = secrets[\"clientId\"]\n",
    "CLIENT_SECRET = secrets[\"secret\"]\n",
    "\n",
    "auth_provider = PlainTextAuthProvider(CLIENT_ID, CLIENT_SECRET)\n",
    "cluster = Cluster(cloud=cloud_config, auth_provider=auth_provider)\n",
    "session = cluster.connect()\n",
    "\n",
    "row = session.execute(\"describe cassandra\").one()\n",
    "if row:\n",
    "  print(row[0])\n",
    "else:\n",
    "  print(\"An error occurred.\")"
   ]
  },
  {
   "cell_type": "code",
   "execution_count": 15,
   "id": "ec1cef2f-e040-44be-b111-8c3cba08008a",
   "metadata": {},
   "outputs": [
    {
     "name": "stdout",
     "output_type": "stream",
     "text": [
      "system_auth\n"
     ]
    }
   ],
   "source": [
    "from cassandra.cluster import Cluster\n",
    "from cassandra.auth import PlainTextAuthProvider\n",
    "import json\n",
    "\n",
    "# This secure connect bundle is autogenerated when you download your SCB, \n",
    "# if yours is different update the file name below\n",
    "cloud_config= {\n",
    "  'secure_connect_bundle': 'secure-connect-rajshekhar1998.zip'\n",
    "}\n",
    "\n",
    "# This token JSON file is autogenerated when you download your token, \n",
    "# if yours is different update the file name below\n",
    "with open(\"Rajshekhar1998-token.json\") as f:\n",
    "    secrets = json.load(f)\n",
    "\n",
    "CLIENT_ID = secrets[\"clientId\"]\n",
    "CLIENT_SECRET = secrets[\"secret\"]\n",
    "\n",
    "auth_provider = PlainTextAuthProvider(CLIENT_ID, CLIENT_SECRET)\n",
    "cluster = Cluster(cloud=cloud_config, auth_provider=auth_provider)\n",
    "session = cluster.connect()\n",
    "\n",
    "row = session.execute(\"select * from system_schema.\").one()\n",
    "if row:\n",
    "  print(row[0])\n",
    "else:\n",
    "  print(\"An error occurred.\")"
   ]
  },
  {
   "cell_type": "code",
   "execution_count": 27,
   "id": "1e49154e-096c-4193-a701-44fb670c5594",
   "metadata": {},
   "outputs": [],
   "source": [
    "from cassandra.cluster import Cluster\n",
    "from cassandra.auth import PlainTextAuthProvider\n",
    "import json\n",
    "\n",
    "# This secure connect bundle is autogenerated when you download your SCB, \n",
    "# if yours is different update the file name below\n",
    "cloud_config= {\n",
    "  'secure_connect_bundle': 'secure-connect-rajshekhar1998.zip'\n",
    "}\n",
    "\n",
    "# This token JSON file is autogenerated when you download your token, \n",
    "# if yours is different update the file name below\n",
    "with open(\"Rajshekhar1998-token.json\") as f:\n",
    "    secrets = json.load(f)\n",
    "\n",
    "CLIENT_ID = secrets[\"clientId\"]\n",
    "CLIENT_SECRET = secrets[\"secret\"]\n",
    "\n",
    "auth_provider = PlainTextAuthProvider(CLIENT_ID, CLIENT_SECRET)\n",
    "cluster = Cluster(cloud=cloud_config, auth_provider=auth_provider)\n",
    "session = cluster.connect()\n",
    "\n",
    "row = session.execute(\"create table if not exists raj.emp1 (emp_id int primary key, emp_name text, emp_city text, emp_sal int, emp_phone int)\").one()\n",
    "if row:\n",
    "  print(row[0])"
   ]
  },
  {
   "cell_type": "code",
   "execution_count": 35,
   "id": "a133ad20-9445-4a13-a057-1eaa010bd60e",
   "metadata": {},
   "outputs": [],
   "source": [
    "from cassandra.cluster import Cluster\n",
    "from cassandra.auth import PlainTextAuthProvider\n",
    "import json\n",
    "\n",
    "# This secure connect bundle is autogenerated when you download your SCB, \n",
    "# if yours is different update the file name below\n",
    "cloud_config= {\n",
    "  'secure_connect_bundle': 'secure-connect-rajshekhar1998.zip'\n",
    "}\n",
    "\n",
    "# This token JSON file is autogenerated when you download your token, \n",
    "# if yours is different update the file name below\n",
    "with open(\"Rajshekhar1998-token.json\") as f:\n",
    "    secrets = json.load(f)\n",
    "\n",
    "CLIENT_ID = secrets[\"clientId\"]\n",
    "CLIENT_SECRET = secrets[\"secret\"]\n",
    "\n",
    "auth_provider = PlainTextAuthProvider(CLIENT_ID, CLIENT_SECRET)\n",
    "cluster = Cluster(cloud=cloud_config, auth_provider=auth_provider)\n",
    "session = cluster.connect()\n",
    "\n",
    "row = session.execute(\"insert into raj.emp (emp_id, emp_name, emp_city, emp_sal, emp_phone) values (04, 'sachin', 'solapur', 50000, 90990912909)\").one()\n",
    "if row:\n",
    "  print(row[0])"
   ]
  },
  {
   "cell_type": "code",
   "execution_count": 34,
   "id": "d29a50db-b4d3-4327-a089-e90331796c66",
   "metadata": {},
   "outputs": [
    {
     "name": "stdout",
     "output_type": "stream",
     "text": [
      "Row(emp_id=1, emp_city='solapur', emp_name='sachin', emp_phone=90990912909, emp_sal=50000)\n"
     ]
    }
   ],
   "source": [
    "from cassandra.cluster import Cluster\n",
    "from cassandra.auth import PlainTextAuthProvider\n",
    "import json\n",
    "\n",
    "# This secure connect bundle is autogenerated when you download your SCB, \n",
    "# if yours is different update the file name below\n",
    "cloud_config= {\n",
    "  'secure_connect_bundle': 'secure-connect-rajshekhar1998.zip'\n",
    "}\n",
    "\n",
    "# This token JSON file is autogenerated when you download your token, \n",
    "# if yours is different update the file name below\n",
    "with open(\"Rajshekhar1998-token.json\") as f:\n",
    "    secrets = json.load(f)\n",
    "\n",
    "CLIENT_ID = secrets[\"clientId\"]\n",
    "CLIENT_SECRET = secrets[\"secret\"]\n",
    "\n",
    "auth_provider = PlainTextAuthProvider(CLIENT_ID, CLIENT_SECRET)\n",
    "cluster = Cluster(cloud=cloud_config, auth_provider=auth_provider)\n",
    "session = cluster.connect()\n",
    "\n",
    "row = session.execute(\"select * from raj.emp\").one()\n",
    "if row:\n",
    "  print(row)"
   ]
  },
  {
   "cell_type": "code",
   "execution_count": null,
   "id": "b91d6fc1-8c44-4b30-ad88-7228c7db2233",
   "metadata": {},
   "outputs": [],
   "source": []
  }
 ],
 "metadata": {
  "kernelspec": {
   "display_name": "Python 3 (ipykernel)",
   "language": "python",
   "name": "python3"
  },
  "language_info": {
   "codemirror_mode": {
    "name": "ipython",
    "version": 3
   },
   "file_extension": ".py",
   "mimetype": "text/x-python",
   "name": "python",
   "nbconvert_exporter": "python",
   "pygments_lexer": "ipython3",
   "version": "3.11.4"
  }
 },
 "nbformat": 4,
 "nbformat_minor": 5
}

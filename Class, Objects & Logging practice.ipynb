{
 "cells": [
  {
   "cell_type": "code",
   "execution_count": 18,
   "id": "4265813a-b612-48e7-af0f-a364c5dc6f20",
   "metadata": {},
   "outputs": [],
   "source": [
    "class Car:\n",
    "    def __init__(self, milage, year, make, model):\n",
    "        self.milage = milage\n",
    "        self.year = year\n",
    "        self.make = make\n",
    "        self.model = model\n",
    "        \n",
    "    def __str__(self):\n",
    "        return \"this is Car Class\""
   ]
  },
  {
   "cell_type": "code",
   "execution_count": 20,
   "id": "eaa68176-82fe-4d5f-b49f-136138f66c75",
   "metadata": {},
   "outputs": [],
   "source": [
    "audi = Car(123, 1998, 'Audi', 'q7')"
   ]
  },
  {
   "cell_type": "code",
   "execution_count": 8,
   "id": "59257558-a4b7-435d-b8dd-b43b0b4709ca",
   "metadata": {},
   "outputs": [
    {
     "data": {
      "text/plain": [
       "1998"
      ]
     },
     "execution_count": 8,
     "metadata": {},
     "output_type": "execute_result"
    }
   ],
   "source": [
    "audi.year"
   ]
  },
  {
   "cell_type": "code",
   "execution_count": 9,
   "id": "36f00e2d-18e5-448c-b2f8-8239caec53fe",
   "metadata": {},
   "outputs": [
    {
     "data": {
      "text/plain": [
       "<__main__.Car at 0x1b31c996310>"
      ]
     },
     "execution_count": 9,
     "metadata": {},
     "output_type": "execute_result"
    }
   ],
   "source": [
    "audi"
   ]
  },
  {
   "cell_type": "code",
   "execution_count": 12,
   "id": "8974ca87-0b01-4ef1-9d94-f3cf3800ccb4",
   "metadata": {},
   "outputs": [
    {
     "data": {
      "text/plain": [
       "__main__.Car"
      ]
     },
     "execution_count": 12,
     "metadata": {},
     "output_type": "execute_result"
    }
   ],
   "source": [
    "type(audi)"
   ]
  },
  {
   "cell_type": "code",
   "execution_count": 16,
   "id": "35f9fee6-ad8c-450d-b2f4-75eac401947a",
   "metadata": {},
   "outputs": [
    {
     "name": "stdout",
     "output_type": "stream",
     "text": [
      "<__main__.Car object at 0x000001B31C996310>\n"
     ]
    }
   ],
   "source": [
    "print(audi)"
   ]
  },
  {
   "cell_type": "code",
   "execution_count": 21,
   "id": "7edf1089-fa70-415a-879b-f534ea83b2d5",
   "metadata": {},
   "outputs": [
    {
     "name": "stdout",
     "output_type": "stream",
     "text": [
      "this is Car Class\n"
     ]
    }
   ],
   "source": [
    "print(audi)"
   ]
  },
  {
   "cell_type": "code",
   "execution_count": 87,
   "id": "cbf4c6b0-3913-4d46-a950-6fc8f4a86c4d",
   "metadata": {},
   "outputs": [],
   "source": [
    "import logging as lg\n",
    "class data:\n",
    "    def __init__(self, filename, filetype, date, size):\n",
    "        self.filename = filename\n",
    "        self.filetype = filetype\n",
    "        self.date = date\n",
    "        self.size = size\n",
    "\n",
    "    def fileopen(self):\n",
    "        f = open(self.filename + '.' + self.filetype,'w')\n",
    "        f.write(\"this is first line\")\n",
    "        f.close()\n",
    "\n",
    "    def fileread(self):\n",
    "        try:\n",
    "            f = open(self.filename + '.' + self.filetype,'r')\n",
    "            for i in f:\n",
    "                print(i)\n",
    "            f.close()\n",
    "        except Exception as e:\n",
    "            self.logging(e)\n",
    "            print(\"Error type:\",e)\n",
    "    \n",
    "    def fileappend(self):\n",
    "        f = open(self.filename + '.' + self.filetype,'a')\n",
    "        f.write(\"this is my second line\")\n",
    "        f.close()\n",
    "\n",
    "    def logging(self,log):\n",
    "        lg.basicConfig(filename=\"logfile.log\", format = \"%(asctime)s %(message)s\", level = lg.INFO)\n",
    "        lg.error(\"error has occured\")\n",
    "        lg.exception(str(log))"
   ]
  },
  {
   "cell_type": "code",
   "execution_count": 88,
   "id": "045ed180-10e1-43b4-b9b3-93c91cb6a8e9",
   "metadata": {},
   "outputs": [],
   "source": [
    "filereadwrite = data(\"test1\",\"txt\",\"17.03.2024\", \"2MB\")"
   ]
  },
  {
   "cell_type": "code",
   "execution_count": 42,
   "id": "f0aa7688-bace-4e12-ad3f-aafb8c5ae73e",
   "metadata": {},
   "outputs": [],
   "source": [
    "filereadwrite.fileopen()"
   ]
  },
  {
   "cell_type": "code",
   "execution_count": 89,
   "id": "26d03872-2238-40f3-a2af-85f4f96f9a91",
   "metadata": {},
   "outputs": [
    {
     "name": "stdout",
     "output_type": "stream",
     "text": [
      "Error type: [Errno 2] No such file or directory: 'test1.txt'\n"
     ]
    }
   ],
   "source": [
    "filereadwrite.fileread()"
   ]
  },
  {
   "cell_type": "code",
   "execution_count": 59,
   "id": "9bc43051-340b-448d-9892-b66791875093",
   "metadata": {},
   "outputs": [],
   "source": [
    "filereadwrite.fileappend()"
   ]
  },
  {
   "cell_type": "code",
   "execution_count": 40,
   "id": "9cc8b466-f71c-48b8-9864-f77da246b862",
   "metadata": {},
   "outputs": [],
   "source": [
    "import logging as lg\n",
    "lg.basicConfig(filename=\"logger.log\", level=lg.INFO, format='%(asctime)s %(message)s')\n",
    "def sum(*args):\n",
    "    lg.info(\"Enter values in the form of list/string/number and same datatype to be added\")\n",
    "    if type(args[0]) == list:\n",
    "        sum = []\n",
    "        for i in args:\n",
    "            lg.info(i)\n",
    "            sum = sum + i\n",
    "            lg.info(sum)\n",
    "    elif type(args[0]) == string:\n",
    "        sum = \"\"\n",
    "        for i in args:\n",
    "            lg.info(i)\n",
    "            sum = sum + i\n",
    "            lg.info(\"Result:\", sum)\n",
    "    elif type(args[0]) == int: \n",
    "        sum = 0\n",
    "        for i in args:\n",
    "            lg.info(i)\n",
    "            sum = sum + i\n",
    "            lg.info(\"Result:\", sum)\n",
    "    else :\n",
    "        lg.error(\"input data cannot be added\")\n",
    "    return sum"
   ]
  },
  {
   "cell_type": "code",
   "execution_count": 41,
   "id": "c78796bc-2ab3-4407-99c7-a3b99ab70de9",
   "metadata": {},
   "outputs": [
    {
     "data": {
      "text/plain": [
       "['raj', 1, 'shekhar', 2]"
      ]
     },
     "execution_count": 41,
     "metadata": {},
     "output_type": "execute_result"
    }
   ],
   "source": [
    "sum(['raj',1],['shekhar',2])"
   ]
  },
  {
   "cell_type": "code",
   "execution_count": 17,
   "id": "caf64eac-92ce-4fad-bfd0-bda552fd5b9f",
   "metadata": {},
   "outputs": [],
   "source": [
    "def sum(*args):\n",
    "    print(type(args[0]))\n",
    "    if type(args[0]) == list:\n",
    "        sum = []\n",
    "        for i in args:\n",
    "            sum = sum + i\n",
    "    else:\n",
    "        sum = []\n",
    "    return sum"
   ]
  },
  {
   "cell_type": "code",
   "execution_count": 18,
   "id": "c9f01cf4-7fa2-4979-99cc-95f5ffbad9ec",
   "metadata": {},
   "outputs": [
    {
     "name": "stdout",
     "output_type": "stream",
     "text": [
      "<class 'list'>\n"
     ]
    },
    {
     "data": {
      "text/plain": [
       "[1, 2, 1]"
      ]
     },
     "execution_count": 18,
     "metadata": {},
     "output_type": "execute_result"
    }
   ],
   "source": [
    "sum([1,2],[1])"
   ]
  },
  {
   "cell_type": "code",
   "execution_count": 42,
   "id": "d9802d96-3fa5-4ae3-9205-edbeea3a4304",
   "metadata": {},
   "outputs": [
    {
     "ename": "ModuleNotFoundError",
     "evalue": "No module named 'ipdb'",
     "output_type": "error",
     "traceback": [
      "\u001b[1;31m---------------------------------------------------------------------------\u001b[0m",
      "\u001b[1;31mModuleNotFoundError\u001b[0m                       Traceback (most recent call last)",
      "Cell \u001b[1;32mIn[42], line 1\u001b[0m\n\u001b[1;32m----> 1\u001b[0m \u001b[38;5;28;01mimport\u001b[39;00m \u001b[38;5;21;01mipdb\u001b[39;00m\n",
      "\u001b[1;31mModuleNotFoundError\u001b[0m: No module named 'ipdb'"
     ]
    }
   ],
   "source": [
    "import ipdb"
   ]
  },
  {
   "cell_type": "code",
   "execution_count": 1,
   "id": "44e3b3fb-6974-4658-ac34-23a5440e6210",
   "metadata": {},
   "outputs": [
    {
     "name": "stderr",
     "output_type": "stream",
     "text": [
      "WARNING: Retrying (Retry(total=4, connect=None, read=None, redirect=None, status=None)) after connection broken by 'NewConnectionError('<pip._vendor.urllib3.connection.HTTPSConnection object at 0x0000028B96F87850>: Failed to establish a new connection: [Errno 11001] getaddrinfo failed')': /simple/ipdb/\n",
      "WARNING: Retrying (Retry(total=3, connect=None, read=None, redirect=None, status=None)) after connection broken by 'NewConnectionError('<pip._vendor.urllib3.connection.HTTPSConnection object at 0x0000028B96F991D0>: Failed to establish a new connection: [Errno 11001] getaddrinfo failed')': /simple/ipdb/\n",
      "WARNING: Retrying (Retry(total=2, connect=None, read=None, redirect=None, status=None)) after connection broken by 'NewConnectionError('<pip._vendor.urllib3.connection.HTTPSConnection object at 0x0000028B96F99850>: Failed to establish a new connection: [Errno 11001] getaddrinfo failed')': /simple/ipdb/\n",
      "WARNING: Retrying (Retry(total=1, connect=None, read=None, redirect=None, status=None)) after connection broken by 'NewConnectionError('<pip._vendor.urllib3.connection.HTTPSConnection object at 0x0000028B96F9A610>: Failed to establish a new connection: [Errno 11001] getaddrinfo failed')': /simple/ipdb/\n",
      "WARNING: Retrying (Retry(total=0, connect=None, read=None, redirect=None, status=None)) after connection broken by 'NewConnectionError('<pip._vendor.urllib3.connection.HTTPSConnection object at 0x0000028B96F9AD10>: Failed to establish a new connection: [Errno 11001] getaddrinfo failed')': /simple/ipdb/\n",
      "ERROR: Could not find a version that satisfies the requirement ipdb (from versions: none)\n",
      "ERROR: No matching distribution found for ipdb\n"
     ]
    }
   ],
   "source": [
    "!pip install --user ipdb"
   ]
  },
  {
   "cell_type": "code",
   "execution_count": 2,
   "id": "30faca22-fbfb-4e68-b261-11cf4ded4802",
   "metadata": {},
   "outputs": [
    {
     "ename": "ValueError",
     "evalue": "The python kernel does not appear to be a conda environment.  Please use ``%pip install`` instead.",
     "output_type": "error",
     "traceback": [
      "\u001b[1;31m---------------------------------------------------------------------------\u001b[0m",
      "\u001b[1;31mValueError\u001b[0m                                Traceback (most recent call last)",
      "Cell \u001b[1;32mIn[2], line 1\u001b[0m\n\u001b[1;32m----> 1\u001b[0m \u001b[43mget_ipython\u001b[49m\u001b[43m(\u001b[49m\u001b[43m)\u001b[49m\u001b[38;5;241;43m.\u001b[39;49m\u001b[43mrun_line_magic\u001b[49m\u001b[43m(\u001b[49m\u001b[38;5;124;43m'\u001b[39;49m\u001b[38;5;124;43mconda\u001b[39;49m\u001b[38;5;124;43m'\u001b[39;49m\u001b[43m,\u001b[49m\u001b[43m \u001b[49m\u001b[38;5;124;43m'\u001b[39;49m\u001b[38;5;124;43minstall ipdb\u001b[39;49m\u001b[38;5;124;43m'\u001b[39;49m\u001b[43m)\u001b[49m\n",
      "File \u001b[1;32m~\\AppData\\Local\\Programs\\Python\\Python311\\Lib\\site-packages\\IPython\\core\\interactiveshell.py:2456\u001b[0m, in \u001b[0;36mInteractiveShell.run_line_magic\u001b[1;34m(self, magic_name, line, _stack_depth)\u001b[0m\n\u001b[0;32m   2454\u001b[0m     kwargs[\u001b[38;5;124m'\u001b[39m\u001b[38;5;124mlocal_ns\u001b[39m\u001b[38;5;124m'\u001b[39m] \u001b[38;5;241m=\u001b[39m \u001b[38;5;28mself\u001b[39m\u001b[38;5;241m.\u001b[39mget_local_scope(stack_depth)\n\u001b[0;32m   2455\u001b[0m \u001b[38;5;28;01mwith\u001b[39;00m \u001b[38;5;28mself\u001b[39m\u001b[38;5;241m.\u001b[39mbuiltin_trap:\n\u001b[1;32m-> 2456\u001b[0m     result \u001b[38;5;241m=\u001b[39m \u001b[43mfn\u001b[49m\u001b[43m(\u001b[49m\u001b[38;5;241;43m*\u001b[39;49m\u001b[43margs\u001b[49m\u001b[43m,\u001b[49m\u001b[43m \u001b[49m\u001b[38;5;241;43m*\u001b[39;49m\u001b[38;5;241;43m*\u001b[39;49m\u001b[43mkwargs\u001b[49m\u001b[43m)\u001b[49m\n\u001b[0;32m   2458\u001b[0m \u001b[38;5;66;03m# The code below prevents the output from being displayed\u001b[39;00m\n\u001b[0;32m   2459\u001b[0m \u001b[38;5;66;03m# when using magics with decorator @output_can_be_silenced\u001b[39;00m\n\u001b[0;32m   2460\u001b[0m \u001b[38;5;66;03m# when the last Python token in the expression is a ';'.\u001b[39;00m\n\u001b[0;32m   2461\u001b[0m \u001b[38;5;28;01mif\u001b[39;00m \u001b[38;5;28mgetattr\u001b[39m(fn, magic\u001b[38;5;241m.\u001b[39mMAGIC_OUTPUT_CAN_BE_SILENCED, \u001b[38;5;28;01mFalse\u001b[39;00m):\n",
      "File \u001b[1;32m~\\AppData\\Local\\Programs\\Python\\Python311\\Lib\\site-packages\\IPython\\core\\magics\\packaging.py:26\u001b[0m, in \u001b[0;36mis_conda_environment.<locals>.wrapper\u001b[1;34m(*args, **kwargs)\u001b[0m\n\u001b[0;32m     24\u001b[0m \u001b[38;5;66;03m# TODO: does this need to change on windows?\u001b[39;00m\n\u001b[0;32m     25\u001b[0m \u001b[38;5;28;01mif\u001b[39;00m \u001b[38;5;129;01mnot\u001b[39;00m Path(sys\u001b[38;5;241m.\u001b[39mprefix, \u001b[38;5;124m\"\u001b[39m\u001b[38;5;124mconda-meta\u001b[39m\u001b[38;5;124m\"\u001b[39m, \u001b[38;5;124m\"\u001b[39m\u001b[38;5;124mhistory\u001b[39m\u001b[38;5;124m\"\u001b[39m)\u001b[38;5;241m.\u001b[39mexists():\n\u001b[1;32m---> 26\u001b[0m     \u001b[38;5;28;01mraise\u001b[39;00m \u001b[38;5;167;01mValueError\u001b[39;00m(\n\u001b[0;32m     27\u001b[0m         \u001b[38;5;124m\"\u001b[39m\u001b[38;5;124mThe python kernel does not appear to be a conda environment.  \u001b[39m\u001b[38;5;124m\"\u001b[39m\n\u001b[0;32m     28\u001b[0m         \u001b[38;5;124m\"\u001b[39m\u001b[38;5;124mPlease use ``\u001b[39m\u001b[38;5;124m%\u001b[39m\u001b[38;5;124mpip install`` instead.\u001b[39m\u001b[38;5;124m\"\u001b[39m\n\u001b[0;32m     29\u001b[0m     )\n\u001b[0;32m     30\u001b[0m \u001b[38;5;28;01mreturn\u001b[39;00m func(\u001b[38;5;241m*\u001b[39margs, \u001b[38;5;241m*\u001b[39m\u001b[38;5;241m*\u001b[39mkwargs)\n",
      "\u001b[1;31mValueError\u001b[0m: The python kernel does not appear to be a conda environment.  Please use ``%pip install`` instead."
     ]
    }
   ],
   "source": [
    "conda install ipdb"
   ]
  },
  {
   "cell_type": "code",
   "execution_count": null,
   "id": "3fda76c8-2162-46da-86c7-de100d11ecc6",
   "metadata": {},
   "outputs": [],
   "source": []
  }
 ],
 "metadata": {
  "kernelspec": {
   "display_name": "Python 3 (ipykernel)",
   "language": "python",
   "name": "python3"
  },
  "language_info": {
   "codemirror_mode": {
    "name": "ipython",
    "version": 3
   },
   "file_extension": ".py",
   "mimetype": "text/x-python",
   "name": "python",
   "nbconvert_exporter": "python",
   "pygments_lexer": "ipython3",
   "version": "3.11.4"
  }
 },
 "nbformat": 4,
 "nbformat_minor": 5
}

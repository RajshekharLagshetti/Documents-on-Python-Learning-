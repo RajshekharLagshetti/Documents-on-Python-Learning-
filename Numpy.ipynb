{
 "cells": [
  {
   "cell_type": "code",
   "execution_count": 2,
   "id": "4241aaab-bf00-4b6d-a10e-77e37be76cf3",
   "metadata": {},
   "outputs": [],
   "source": [
    "import numpy as np"
   ]
  },
  {
   "cell_type": "code",
   "execution_count": 3,
   "id": "cb5c8bdf-4e6e-4a56-b205-821fd227bb68",
   "metadata": {},
   "outputs": [
    {
     "data": {
      "text/plain": [
       "numpy.ndarray"
      ]
     },
     "execution_count": 3,
     "metadata": {},
     "output_type": "execute_result"
    }
   ],
   "source": [
    "type(np.array([1,2,3,4]))"
   ]
  },
  {
   "cell_type": "code",
   "execution_count": 4,
   "id": "2c4ad60e-310f-43e4-afca-9002863bda18",
   "metadata": {},
   "outputs": [
    {
     "data": {
      "text/plain": [
       "array([1., 2., 3., 4., 7.])"
      ]
     },
     "execution_count": 4,
     "metadata": {},
     "output_type": "execute_result"
    }
   ],
   "source": [
    "np.array([1,2,3,4,7.0])"
   ]
  },
  {
   "cell_type": "code",
   "execution_count": 6,
   "id": "b5d11c69-46d4-4611-b89e-8159ef3d04a8",
   "metadata": {},
   "outputs": [
    {
     "data": {
      "text/plain": [
       "array(['1', '2', '3', '4', '7.0', 'raj'], dtype='<U32')"
      ]
     },
     "execution_count": 6,
     "metadata": {},
     "output_type": "execute_result"
    }
   ],
   "source": [
    "np.array([1,2,3,4,7.0,'raj'])"
   ]
  },
  {
   "cell_type": "code",
   "execution_count": 45,
   "id": "ae460e7f-a8da-4c94-a78d-030c0042229f",
   "metadata": {},
   "outputs": [],
   "source": [
    "arr = np.array([[1,2,3],[1,2,5],[1.21,45,7]], ndmin=5)"
   ]
  },
  {
   "cell_type": "code",
   "execution_count": 4,
   "id": "10385a04-335f-4346-b4ec-ec6352cac8ad",
   "metadata": {},
   "outputs": [
    {
     "data": {
      "text/plain": [
       "array([[1.+0.j, 2.+0.j],\n",
       "       [3.+0.j, 4.+0.j]])"
      ]
     },
     "execution_count": 4,
     "metadata": {},
     "output_type": "execute_result"
    }
   ],
   "source": [
    "np.array([(1,2),(3,4)],dtype = complex)"
   ]
  },
  {
   "cell_type": "code",
   "execution_count": 40,
   "id": "b0e64ec2-e9eb-4606-92c1-6b11484c39ff",
   "metadata": {},
   "outputs": [],
   "source": [
    "a = np.array([(1,2),(3,4)],dtype = [('a','<i4'),('b','<i8')])"
   ]
  },
  {
   "cell_type": "code",
   "execution_count": 7,
   "id": "41b2e43a-fe4e-41ac-9b0c-ad5836475d7b",
   "metadata": {},
   "outputs": [
    {
     "data": {
      "text/plain": [
       "numpy.int32"
      ]
     },
     "execution_count": 7,
     "metadata": {},
     "output_type": "execute_result"
    }
   ],
   "source": [
    "type(a[0][0])"
   ]
  },
  {
   "cell_type": "code",
   "execution_count": 8,
   "id": "4cb5caa2-b2c9-4669-a3b4-f9abced6bd6a",
   "metadata": {},
   "outputs": [
    {
     "data": {
      "text/plain": [
       "numpy.int64"
      ]
     },
     "execution_count": 8,
     "metadata": {},
     "output_type": "execute_result"
    }
   ],
   "source": [
    "type(a[0][1])"
   ]
  },
  {
   "cell_type": "code",
   "execution_count": 11,
   "id": "c64e213b-9062-46e2-b021-4be6a9401ead",
   "metadata": {},
   "outputs": [],
   "source": [
    "b = np.mat(a)"
   ]
  },
  {
   "cell_type": "code",
   "execution_count": 10,
   "id": "3a4031e1-94ef-4e88-afd6-067da33444b6",
   "metadata": {},
   "outputs": [
    {
     "data": {
      "text/plain": [
       "array([1, 3, 5, 8, 9])"
      ]
     },
     "execution_count": 10,
     "metadata": {},
     "output_type": "execute_result"
    }
   ],
   "source": [
    "l = [1,3,5,8,9]\n",
    "np.array(l)\n",
    "np.asarray(l)\n",
    "np.asanyarray(l)"
   ]
  },
  {
   "cell_type": "code",
   "execution_count": 12,
   "id": "791aa523-2400-48c5-a128-1eef927a7bf8",
   "metadata": {},
   "outputs": [
    {
     "data": {
      "text/plain": [
       "matrix([[(1, 2), (3, 4)]], dtype=[('a', '<i4'), ('b', '<i8')])"
      ]
     },
     "execution_count": 12,
     "metadata": {},
     "output_type": "execute_result"
    }
   ],
   "source": [
    "np.asanyarray(b)"
   ]
  },
  {
   "cell_type": "code",
   "execution_count": 13,
   "id": "afacb746-f566-4342-9979-3afe928dc2ed",
   "metadata": {},
   "outputs": [
    {
     "data": {
      "text/plain": [
       "array([1, 3, 5, 8, 9])"
      ]
     },
     "execution_count": 13,
     "metadata": {},
     "output_type": "execute_result"
    }
   ],
   "source": [
    "np.asanyarray(l)"
   ]
  },
  {
   "cell_type": "code",
   "execution_count": 14,
   "id": "b643c30f-4686-4fd5-bee9-bf63ac273a56",
   "metadata": {},
   "outputs": [
    {
     "data": {
      "text/plain": [
       "True"
      ]
     },
     "execution_count": 14,
     "metadata": {},
     "output_type": "execute_result"
    }
   ],
   "source": [
    "issubclass(np.matrix, np.ndarray) #matrix is sub-class of nd array"
   ]
  },
  {
   "cell_type": "code",
   "execution_count": 20,
   "id": "5756602f-5294-4bc2-837c-d2c48d3d5edf",
   "metadata": {},
   "outputs": [],
   "source": [
    "c=a #shallow copy, array is mutable"
   ]
  },
  {
   "cell_type": "code",
   "execution_count": 21,
   "id": "b870ab47-3072-4802-9a63-e5f13ac08041",
   "metadata": {},
   "outputs": [],
   "source": [
    "d = np.copy(a) # deep copy"
   ]
  },
  {
   "cell_type": "code",
   "execution_count": 22,
   "id": "2eae3a39-b5cf-4413-937b-43cea528fa7a",
   "metadata": {},
   "outputs": [],
   "source": [
    "a[0][0] = 8"
   ]
  },
  {
   "cell_type": "code",
   "execution_count": 23,
   "id": "6c5cdc34-0c2f-46b5-adc5-b5901b442e65",
   "metadata": {},
   "outputs": [
    {
     "data": {
      "text/plain": [
       "array([(8, 2), (3, 4)], dtype=[('a', '<i4'), ('b', '<i8')])"
      ]
     },
     "execution_count": 23,
     "metadata": {},
     "output_type": "execute_result"
    }
   ],
   "source": [
    "c"
   ]
  },
  {
   "cell_type": "code",
   "execution_count": 24,
   "id": "dc680112-b228-434e-9045-3ccc0675aa21",
   "metadata": {},
   "outputs": [
    {
     "data": {
      "text/plain": [
       "array([(8, 2), (3, 4)], dtype=[('a', '<i4'), ('b', '<i8')])"
      ]
     },
     "execution_count": 24,
     "metadata": {},
     "output_type": "execute_result"
    }
   ],
   "source": [
    "d"
   ]
  },
  {
   "cell_type": "code",
   "execution_count": 25,
   "id": "8b74dfd5-a6c5-4b6b-ac40-f8a7d7014ffc",
   "metadata": {},
   "outputs": [
    {
     "data": {
      "text/plain": [
       "array([[ True, False, False, False],\n",
       "       [False,  True, False, False],\n",
       "       [False, False,  True, False],\n",
       "       [False, False, False,  True]])"
      ]
     },
     "execution_count": 25,
     "metadata": {},
     "output_type": "execute_result"
    }
   ],
   "source": [
    "np.fromfunction(lambda i,j: i == j, (4,4))"
   ]
  },
  {
   "cell_type": "code",
   "execution_count": 26,
   "id": "d4b39f3b-e7ac-4890-b9e6-f8929c9eb91a",
   "metadata": {},
   "outputs": [
    {
     "name": "stderr",
     "output_type": "stream",
     "text": [
      "C:\\Users\\LENOVO\\AppData\\Local\\Temp\\ipykernel_4696\\4229925046.py:1: RuntimeWarning: divide by zero encountered in divide\n",
      "  np.fromfunction(lambda i,j: i/j, (4,4))\n",
      "C:\\Users\\LENOVO\\AppData\\Local\\Temp\\ipykernel_4696\\4229925046.py:1: RuntimeWarning: invalid value encountered in divide\n",
      "  np.fromfunction(lambda i,j: i/j, (4,4))\n"
     ]
    },
    {
     "data": {
      "text/plain": [
       "array([[       nan, 0.        , 0.        , 0.        ],\n",
       "       [       inf, 1.        , 0.5       , 0.33333333],\n",
       "       [       inf, 2.        , 1.        , 0.66666667],\n",
       "       [       inf, 3.        , 1.5       , 1.        ]])"
      ]
     },
     "execution_count": 26,
     "metadata": {},
     "output_type": "execute_result"
    }
   ],
   "source": [
    "np.fromfunction(lambda i,j: i/j, (4,4))"
   ]
  },
  {
   "cell_type": "code",
   "execution_count": 27,
   "id": "0194176e-a60d-4823-b7b1-98f24f6a0e34",
   "metadata": {},
   "outputs": [],
   "source": [
    "def test(n):\n",
    "    for i in range(n):\n",
    "        yield i**3"
   ]
  },
  {
   "cell_type": "code",
   "execution_count": 28,
   "id": "b1cdcf95-3cb1-41cd-b0e8-fe8d38c67cde",
   "metadata": {},
   "outputs": [
    {
     "data": {
      "text/plain": [
       "<generator object test at 0x0000023FF3F1B1D0>"
      ]
     },
     "execution_count": 28,
     "metadata": {},
     "output_type": "execute_result"
    }
   ],
   "source": [
    "test(30)"
   ]
  },
  {
   "cell_type": "code",
   "execution_count": 30,
   "id": "fae5f147-4b80-44f9-ad96-1b60532cd7f6",
   "metadata": {},
   "outputs": [
    {
     "name": "stdout",
     "output_type": "stream",
     "text": [
      "0\n",
      "1\n",
      "8\n"
     ]
    }
   ],
   "source": [
    "for i in test(3):\n",
    "    print(i)"
   ]
  },
  {
   "cell_type": "code",
   "execution_count": 31,
   "id": "2e1da16e-ee89-49ca-9668-6e464e705964",
   "metadata": {},
   "outputs": [],
   "source": [
    "gen = (i*i for i in range(5))"
   ]
  },
  {
   "cell_type": "code",
   "execution_count": 33,
   "id": "1f48de43-a482-43a1-ad81-fa35bd071021",
   "metadata": {},
   "outputs": [
    {
     "data": {
      "text/plain": [
       "<generator object <genexpr> at 0x0000023FFABC3100>"
      ]
     },
     "execution_count": 33,
     "metadata": {},
     "output_type": "execute_result"
    }
   ],
   "source": [
    "gen"
   ]
  },
  {
   "cell_type": "code",
   "execution_count": 38,
   "id": "29fac71a-eadf-4e67-a78e-f60b44f4b198",
   "metadata": {},
   "outputs": [
    {
     "data": {
      "text/plain": [
       "array([], dtype=int32)"
      ]
     },
     "execution_count": 38,
     "metadata": {},
     "output_type": "execute_result"
    }
   ],
   "source": [
    "np.fromiter(gen, dtype = int)"
   ]
  },
  {
   "cell_type": "code",
   "execution_count": 39,
   "id": "850d448e-0c16-40f7-916d-e0960389c9c5",
   "metadata": {},
   "outputs": [
    {
     "data": {
      "text/plain": [
       "array([1, 3, 4, 5, 5])"
      ]
     },
     "execution_count": 39,
     "metadata": {},
     "output_type": "execute_result"
    }
   ],
   "source": [
    "np.fromstring('1,3,4,5,5',sep=',',dtype=int)"
   ]
  },
  {
   "cell_type": "code",
   "execution_count": 41,
   "id": "efd98db2-5f1f-427c-848b-c4f6ece2b0fe",
   "metadata": {},
   "outputs": [
    {
     "data": {
      "text/plain": [
       "1"
      ]
     },
     "execution_count": 41,
     "metadata": {},
     "output_type": "execute_result"
    }
   ],
   "source": [
    "a.ndim"
   ]
  },
  {
   "cell_type": "code",
   "execution_count": 42,
   "id": "bc64b9a1-bdcb-4c7d-a44c-cce1b0c8faf5",
   "metadata": {},
   "outputs": [
    {
     "data": {
      "text/plain": [
       "2"
      ]
     },
     "execution_count": 42,
     "metadata": {},
     "output_type": "execute_result"
    }
   ],
   "source": [
    "a.size"
   ]
  },
  {
   "cell_type": "code",
   "execution_count": 43,
   "id": "7f256a5a-8c25-4224-920f-6e6032ede405",
   "metadata": {},
   "outputs": [
    {
     "data": {
      "text/plain": [
       "(2,)"
      ]
     },
     "execution_count": 43,
     "metadata": {},
     "output_type": "execute_result"
    }
   ],
   "source": [
    "a.shape"
   ]
  },
  {
   "cell_type": "code",
   "execution_count": 44,
   "id": "b2cb0f68-f62a-43ea-b883-ac2d767247ce",
   "metadata": {},
   "outputs": [
    {
     "data": {
      "text/plain": [
       "dtype([('a', '<i4'), ('b', '<i8')])"
      ]
     },
     "execution_count": 44,
     "metadata": {},
     "output_type": "execute_result"
    }
   ],
   "source": [
    "a.dtype"
   ]
  },
  {
   "cell_type": "code",
   "execution_count": 46,
   "id": "3f51afd6-0daf-4a3e-a043-f260068358e9",
   "metadata": {},
   "outputs": [
    {
     "data": {
      "text/plain": [
       "(1, 1, 1, 3, 3)"
      ]
     },
     "execution_count": 46,
     "metadata": {},
     "output_type": "execute_result"
    }
   ],
   "source": [
    "arr.shape"
   ]
  },
  {
   "cell_type": "code",
   "execution_count": 1,
   "id": "ea50291e-da6b-4aae-bd23-0211f2b648db",
   "metadata": {},
   "outputs": [
    {
     "ename": "TypeError",
     "evalue": "'float' object cannot be interpreted as an integer",
     "output_type": "error",
     "traceback": [
      "\u001b[1;31m---------------------------------------------------------------------------\u001b[0m",
      "\u001b[1;31mTypeError\u001b[0m                                 Traceback (most recent call last)",
      "Cell \u001b[1;32mIn[1], line 1\u001b[0m\n\u001b[1;32m----> 1\u001b[0m \u001b[38;5;28mlist\u001b[39m(\u001b[38;5;28;43mrange\u001b[39;49m\u001b[43m(\u001b[49m\u001b[38;5;241;43m6.6\u001b[39;49m\u001b[43m)\u001b[49m)\n",
      "\u001b[1;31mTypeError\u001b[0m: 'float' object cannot be interpreted as an integer"
     ]
    }
   ],
   "source": [
    "list(range(6.6))"
   ]
  },
  {
   "cell_type": "code",
   "execution_count": 3,
   "id": "9e0d6fe6-aa62-4ab7-85dd-b34f309b3e7a",
   "metadata": {},
   "outputs": [
    {
     "data": {
      "text/plain": [
       "array([0., 1., 2., 3., 4., 5., 6.])"
      ]
     },
     "execution_count": 3,
     "metadata": {},
     "output_type": "execute_result"
    }
   ],
   "source": [
    "np.arange(6.6)"
   ]
  },
  {
   "cell_type": "code",
   "execution_count": 5,
   "id": "5e30cfd0-fd26-482b-a976-5a499604c570",
   "metadata": {},
   "outputs": [
    {
     "data": {
      "text/plain": [
       "array([9. , 8.7, 8.4, 8.1, 7.8, 7.5, 7.2, 6.9, 6.6])"
      ]
     },
     "execution_count": 5,
     "metadata": {},
     "output_type": "execute_result"
    }
   ],
   "source": [
    "np.arange(9,6.6,-.3) #includes upper bond for float"
   ]
  },
  {
   "cell_type": "code",
   "execution_count": 6,
   "id": "43f8987b-9131-4bf8-b9b4-817ce8d7ceed",
   "metadata": {},
   "outputs": [
    {
     "data": {
      "text/plain": [
       "array([1. , 1.2, 1.4, 1.6, 1.8, 2. , 2.2, 2.4, 2.6, 2.8, 3. , 3.2, 3.4,\n",
       "       3.6, 3.8, 4. , 4.2, 4.4, 4.6, 4.8, 5. , 5.2, 5.4, 5.6, 5.8, 6. ,\n",
       "       6.2, 6.4, 6.6, 6.8, 7. , 7.2, 7.4, 7.6, 7.8, 8. , 8.2, 8.4, 8.6,\n",
       "       8.8])"
      ]
     },
     "execution_count": 6,
     "metadata": {},
     "output_type": "execute_result"
    }
   ],
   "source": [
    "np.arange(1,9,.2) #excludes upper bond for int"
   ]
  },
  {
   "cell_type": "code",
   "execution_count": 7,
   "id": "58dc4070-6e15-46e6-9c5d-7d9558df4069",
   "metadata": {},
   "outputs": [
    {
     "data": {
      "text/plain": [
       "array([1.        , 1.88888889, 2.77777778, 3.66666667, 4.55555556,\n",
       "       5.44444444, 6.33333333, 7.22222222, 8.11111111, 9.        ])"
      ]
     },
     "execution_count": 7,
     "metadata": {},
     "output_type": "execute_result"
    }
   ],
   "source": [
    "np.linspace(1,9,10)"
   ]
  },
  {
   "cell_type": "code",
   "execution_count": 8,
   "id": "8abc5ade-e258-4375-84cb-316a3a415eea",
   "metadata": {},
   "outputs": [
    {
     "data": {
      "text/plain": [
       "array([0., 0., 0., 0., 0.])"
      ]
     },
     "execution_count": 8,
     "metadata": {},
     "output_type": "execute_result"
    }
   ],
   "source": [
    "np.zeros(5)"
   ]
  },
  {
   "cell_type": "code",
   "execution_count": 9,
   "id": "9cb6ec53-77a3-465b-be46-5b3b63723a11",
   "metadata": {},
   "outputs": [
    {
     "data": {
      "text/plain": [
       "array([[[[0., 0., 0.],\n",
       "         [0., 0., 0.],\n",
       "         [0., 0., 0.],\n",
       "         [0., 0., 0.]],\n",
       "\n",
       "        [[0., 0., 0.],\n",
       "         [0., 0., 0.],\n",
       "         [0., 0., 0.],\n",
       "         [0., 0., 0.]],\n",
       "\n",
       "        [[0., 0., 0.],\n",
       "         [0., 0., 0.],\n",
       "         [0., 0., 0.],\n",
       "         [0., 0., 0.]],\n",
       "\n",
       "        [[0., 0., 0.],\n",
       "         [0., 0., 0.],\n",
       "         [0., 0., 0.],\n",
       "         [0., 0., 0.]],\n",
       "\n",
       "        [[0., 0., 0.],\n",
       "         [0., 0., 0.],\n",
       "         [0., 0., 0.],\n",
       "         [0., 0., 0.]]],\n",
       "\n",
       "\n",
       "       [[[0., 0., 0.],\n",
       "         [0., 0., 0.],\n",
       "         [0., 0., 0.],\n",
       "         [0., 0., 0.]],\n",
       "\n",
       "        [[0., 0., 0.],\n",
       "         [0., 0., 0.],\n",
       "         [0., 0., 0.],\n",
       "         [0., 0., 0.]],\n",
       "\n",
       "        [[0., 0., 0.],\n",
       "         [0., 0., 0.],\n",
       "         [0., 0., 0.],\n",
       "         [0., 0., 0.]],\n",
       "\n",
       "        [[0., 0., 0.],\n",
       "         [0., 0., 0.],\n",
       "         [0., 0., 0.],\n",
       "         [0., 0., 0.]],\n",
       "\n",
       "        [[0., 0., 0.],\n",
       "         [0., 0., 0.],\n",
       "         [0., 0., 0.],\n",
       "         [0., 0., 0.]]]])"
      ]
     },
     "execution_count": 9,
     "metadata": {},
     "output_type": "execute_result"
    }
   ],
   "source": [
    "np.zeros((2,5,4,3))"
   ]
  },
  {
   "cell_type": "code",
   "execution_count": 10,
   "id": "19b578dc-c925-4a9e-9dc1-c857b84f92b6",
   "metadata": {},
   "outputs": [
    {
     "data": {
      "text/plain": [
       "array([[[1., 1.],\n",
       "        [1., 1.],\n",
       "        [1., 1.],\n",
       "        [1., 1.]],\n",
       "\n",
       "       [[1., 1.],\n",
       "        [1., 1.],\n",
       "        [1., 1.],\n",
       "        [1., 1.]],\n",
       "\n",
       "       [[1., 1.],\n",
       "        [1., 1.],\n",
       "        [1., 1.],\n",
       "        [1., 1.]]])"
      ]
     },
     "execution_count": 10,
     "metadata": {},
     "output_type": "execute_result"
    }
   ],
   "source": [
    "np.ones((3,4,2))"
   ]
  },
  {
   "cell_type": "code",
   "execution_count": 11,
   "id": "ae5740f3-fe57-437e-a5aa-3ddd67a13cc7",
   "metadata": {},
   "outputs": [
    {
     "data": {
      "text/plain": [
       "array([[1.44032830e-311, 2.81617418e-322, 0.00000000e+000,\n",
       "        0.00000000e+000],\n",
       "       [1.11260619e-306, 5.74084271e+169, 6.50957786e-091,\n",
       "        3.76111729e+179],\n",
       "       [8.31546613e-072, 8.44925200e+169, 6.48224660e+170,\n",
       "        4.93432906e+257]])"
      ]
     },
     "execution_count": 11,
     "metadata": {},
     "output_type": "execute_result"
    }
   ],
   "source": [
    "np.empty((3,4))"
   ]
  },
  {
   "cell_type": "code",
   "execution_count": 13,
   "id": "87f14e17-b4c5-46bc-a4ab-0eff781dc35b",
   "metadata": {},
   "outputs": [
    {
     "data": {
      "text/plain": [
       "array([[1., 0., 0., 0., 0.],\n",
       "       [0., 1., 0., 0., 0.],\n",
       "       [0., 0., 1., 0., 0.],\n",
       "       [0., 0., 0., 1., 0.],\n",
       "       [0., 0., 0., 0., 1.]])"
      ]
     },
     "execution_count": 13,
     "metadata": {},
     "output_type": "execute_result"
    }
   ],
   "source": [
    "np.eye(5)"
   ]
  },
  {
   "cell_type": "code",
   "execution_count": 14,
   "id": "e398199f-de30-4da6-a9fb-54f0849779f9",
   "metadata": {},
   "outputs": [
    {
     "data": {
      "text/plain": [
       "array([2. , 2.5, 3. , 3.5])"
      ]
     },
     "execution_count": 14,
     "metadata": {},
     "output_type": "execute_result"
    }
   ],
   "source": [
    "np.linspace(2,4,4,endpoint=False,axis=0)"
   ]
  },
  {
   "cell_type": "code",
   "execution_count": 18,
   "id": "d5220d14-43c6-4c31-bf56-249296ce9f58",
   "metadata": {},
   "outputs": [
    {
     "data": {
      "text/plain": [
       "array([[1.        , 1.        ],\n",
       "       [1.02040816, 1.02040816],\n",
       "       [1.04081633, 1.04081633],\n",
       "       [1.06122449, 1.06122449],\n",
       "       [1.08163265, 1.08163265],\n",
       "       [1.10204082, 1.10204082],\n",
       "       [1.12244898, 1.12244898],\n",
       "       [1.14285714, 1.14285714],\n",
       "       [1.16326531, 1.16326531],\n",
       "       [1.18367347, 1.18367347],\n",
       "       [1.20408163, 1.20408163],\n",
       "       [1.2244898 , 1.2244898 ],\n",
       "       [1.24489796, 1.24489796],\n",
       "       [1.26530612, 1.26530612],\n",
       "       [1.28571429, 1.28571429],\n",
       "       [1.30612245, 1.30612245],\n",
       "       [1.32653061, 1.32653061],\n",
       "       [1.34693878, 1.34693878],\n",
       "       [1.36734694, 1.36734694],\n",
       "       [1.3877551 , 1.3877551 ],\n",
       "       [1.40816327, 1.40816327],\n",
       "       [1.42857143, 1.42857143],\n",
       "       [1.44897959, 1.44897959],\n",
       "       [1.46938776, 1.46938776],\n",
       "       [1.48979592, 1.48979592],\n",
       "       [1.51020408, 1.51020408],\n",
       "       [1.53061224, 1.53061224],\n",
       "       [1.55102041, 1.55102041],\n",
       "       [1.57142857, 1.57142857],\n",
       "       [1.59183673, 1.59183673],\n",
       "       [1.6122449 , 1.6122449 ],\n",
       "       [1.63265306, 1.63265306],\n",
       "       [1.65306122, 1.65306122],\n",
       "       [1.67346939, 1.67346939],\n",
       "       [1.69387755, 1.69387755],\n",
       "       [1.71428571, 1.71428571],\n",
       "       [1.73469388, 1.73469388],\n",
       "       [1.75510204, 1.75510204],\n",
       "       [1.7755102 , 1.7755102 ],\n",
       "       [1.79591837, 1.79591837],\n",
       "       [1.81632653, 1.81632653],\n",
       "       [1.83673469, 1.83673469],\n",
       "       [1.85714286, 1.85714286],\n",
       "       [1.87755102, 1.87755102],\n",
       "       [1.89795918, 1.89795918],\n",
       "       [1.91836735, 1.91836735],\n",
       "       [1.93877551, 1.93877551],\n",
       "       [1.95918367, 1.95918367],\n",
       "       [1.97959184, 1.97959184],\n",
       "       [2.        , 2.        ]])"
      ]
     },
     "execution_count": 18,
     "metadata": {},
     "output_type": "execute_result"
    }
   ],
   "source": [
    "np.linspace([1,1],2,axis=0)"
   ]
  },
  {
   "cell_type": "code",
   "execution_count": 19,
   "id": "94132792-7cda-4873-8159-d996ed387129",
   "metadata": {},
   "outputs": [
    {
     "data": {
      "text/plain": [
       "array([ 100.        ,  177.827941  ,  316.22776602,  562.34132519,\n",
       "       1000.        ])"
      ]
     },
     "execution_count": 19,
     "metadata": {},
     "output_type": "execute_result"
    }
   ],
   "source": [
    "np.logspace(2,3,5)"
   ]
  },
  {
   "cell_type": "code",
   "execution_count": 23,
   "id": "5ce4023a-ffcb-46f6-9d8f-d7853dc9fa58",
   "metadata": {},
   "outputs": [],
   "source": [
    "d = np.linspace(1,40,10)"
   ]
  },
  {
   "cell_type": "code",
   "execution_count": 24,
   "id": "a8e399f2-67ea-41df-b3a3-1f9a660bd6cc",
   "metadata": {},
   "outputs": [
    {
     "data": {
      "text/plain": [
       "array([ 1.        ,  5.33333333,  9.66666667, 14.        , 18.33333333,\n",
       "       22.66666667, 27.        , 31.33333333, 35.66666667, 40.        ])"
      ]
     },
     "execution_count": 24,
     "metadata": {},
     "output_type": "execute_result"
    }
   ],
   "source": [
    "d"
   ]
  },
  {
   "cell_type": "code",
   "execution_count": 25,
   "id": "7912b504-ca38-4983-9855-2b94a050ed45",
   "metadata": {},
   "outputs": [
    {
     "data": {
      "text/plain": [
       "array([[ 1.        ],\n",
       "       [ 5.33333333],\n",
       "       [ 9.66666667],\n",
       "       [14.        ],\n",
       "       [18.33333333],\n",
       "       [22.66666667],\n",
       "       [27.        ],\n",
       "       [31.33333333],\n",
       "       [35.66666667],\n",
       "       [40.        ]])"
      ]
     },
     "execution_count": 25,
     "metadata": {},
     "output_type": "execute_result"
    }
   ],
   "source": [
    "d.reshape(10,1)"
   ]
  },
  {
   "cell_type": "code",
   "execution_count": 26,
   "id": "24a31136-b470-4e8f-8d65-9f2f6be432d4",
   "metadata": {},
   "outputs": [
    {
     "data": {
      "text/plain": [
       "array([[[ 1.        ,  5.33333333,  9.66666667, 14.        ,\n",
       "         18.33333333],\n",
       "        [22.66666667, 27.        , 31.33333333, 35.66666667,\n",
       "         40.        ]]])"
      ]
     },
     "execution_count": 26,
     "metadata": {},
     "output_type": "execute_result"
    }
   ],
   "source": [
    "d.reshape(1,2,5)"
   ]
  },
  {
   "cell_type": "code",
   "execution_count": 27,
   "id": "3b159718-ab06-4d56-839c-0b3daa773c8b",
   "metadata": {},
   "outputs": [
    {
     "data": {
      "text/plain": [
       "array([0.72860575, 0.20449724, 0.94927727])"
      ]
     },
     "execution_count": 27,
     "metadata": {},
     "output_type": "execute_result"
    }
   ],
   "source": [
    "np.random.rand(3)"
   ]
  },
  {
   "cell_type": "code",
   "execution_count": 28,
   "id": "85076f50-86f8-445f-8733-99eb98750bd8",
   "metadata": {},
   "outputs": [
    {
     "data": {
      "text/plain": [
       "array([-0.21143412,  0.47651969,  0.07865118])"
      ]
     },
     "execution_count": 28,
     "metadata": {},
     "output_type": "execute_result"
    }
   ],
   "source": [
    "np.random.randn(3)"
   ]
  },
  {
   "cell_type": "code",
   "execution_count": 30,
   "id": "032bf3df-9de1-42a3-94f3-0ab8b4e1809b",
   "metadata": {},
   "outputs": [],
   "source": [
    "arr = np.random.randint(5,60,(4,4))"
   ]
  },
  {
   "cell_type": "code",
   "execution_count": 31,
   "id": "baca2bf5-bc46-45cb-adcc-11c8f7c0ae27",
   "metadata": {},
   "outputs": [
    {
     "data": {
      "text/plain": [
       "array([[12, 30],\n",
       "       [11, 55],\n",
       "       [11, 45],\n",
       "       [53, 29],\n",
       "       [ 5, 36],\n",
       "       [56, 55],\n",
       "       [32, 12],\n",
       "       [59, 16]])"
      ]
     },
     "execution_count": 31,
     "metadata": {},
     "output_type": "execute_result"
    }
   ],
   "source": [
    "arr.reshape(8,-23323)"
   ]
  },
  {
   "cell_type": "code",
   "execution_count": 32,
   "id": "9c57b220-05bc-41c9-b767-9a73de37c31f",
   "metadata": {},
   "outputs": [
    {
     "data": {
      "text/plain": [
       "59"
      ]
     },
     "execution_count": 32,
     "metadata": {},
     "output_type": "execute_result"
    }
   ],
   "source": [
    "arr.max()"
   ]
  },
  {
   "cell_type": "code",
   "execution_count": 33,
   "id": "1ffdd7be-240a-4397-aec7-2d54a5879bf8",
   "metadata": {},
   "outputs": [
    {
     "data": {
      "text/plain": [
       "5"
      ]
     },
     "execution_count": 33,
     "metadata": {},
     "output_type": "execute_result"
    }
   ],
   "source": [
    "arr.min()"
   ]
  },
  {
   "cell_type": "code",
   "execution_count": 34,
   "id": "9a2f46a6-358e-4031-bd02-b87b9f12e31e",
   "metadata": {},
   "outputs": [
    {
     "data": {
      "text/plain": [
       "array([[56, 55],\n",
       "       [59, 16]])"
      ]
     },
     "execution_count": 34,
     "metadata": {},
     "output_type": "execute_result"
    }
   ],
   "source": [
    "arr[2:,2:]"
   ]
  },
  {
   "cell_type": "code",
   "execution_count": 35,
   "id": "241df3de-a6e6-4101-9d97-75861ea1e2ce",
   "metadata": {},
   "outputs": [
    {
     "data": {
      "text/plain": [
       "array([[12, 30, 11, 55],\n",
       "       [11, 45, 53, 29],\n",
       "       [ 5, 36, 56, 55],\n",
       "       [32, 12, 59, 16]])"
      ]
     },
     "execution_count": 35,
     "metadata": {},
     "output_type": "execute_result"
    }
   ],
   "source": [
    "arr"
   ]
  },
  {
   "cell_type": "code",
   "execution_count": 36,
   "id": "4cbe4561-3b68-4870-a074-e2c804aff0db",
   "metadata": {},
   "outputs": [
    {
     "data": {
      "text/plain": [
       "array([[30, 55],\n",
       "       [45, 29],\n",
       "       [36, 55],\n",
       "       [12, 16]])"
      ]
     },
     "execution_count": 36,
     "metadata": {},
     "output_type": "execute_result"
    }
   ],
   "source": [
    "arr[:,[1,3]]"
   ]
  },
  {
   "cell_type": "code",
   "execution_count": 38,
   "id": "f008226f-491b-4cc5-b079-2f94ee182313",
   "metadata": {},
   "outputs": [
    {
     "data": {
      "text/plain": [
       "array([12, 30, 11, 55, 11, 45, 53, 29, 36, 56, 55, 32, 12, 59, 16])"
      ]
     },
     "execution_count": 38,
     "metadata": {},
     "output_type": "execute_result"
    }
   ],
   "source": [
    "arr[arr>10]"
   ]
  },
  {
   "cell_type": "code",
   "execution_count": 40,
   "id": "f6cffa17-fa69-4549-a7d7-fd5f65445890",
   "metadata": {},
   "outputs": [
    {
     "data": {
      "text/plain": [
       "array([[ 144,  900,  121, 3025],\n",
       "       [ 121, 2025, 2809,  841],\n",
       "       [  25, 1296, 3136, 3025],\n",
       "       [1024,  144, 3481,  256]])"
      ]
     },
     "execution_count": 40,
     "metadata": {},
     "output_type": "execute_result"
    }
   ],
   "source": [
    "arr*arr #scaler multiplication"
   ]
  },
  {
   "cell_type": "code",
   "execution_count": 42,
   "id": "182db165-f3ee-418d-8ed0-83922a4f77f3",
   "metadata": {},
   "outputs": [
    {
     "data": {
      "text/plain": [
       "array([[2289, 2766, 5583, 3015],\n",
       "       [1820, 4611, 7185, 5289],\n",
       "       [2496, 4446, 8344, 5279],\n",
       "       [1323, 3816, 5236, 5609]])"
      ]
     },
     "execution_count": 42,
     "metadata": {},
     "output_type": "execute_result"
    }
   ],
   "source": [
    "arr@arr #matrix mutiplication"
   ]
  },
  {
   "cell_type": "code",
   "execution_count": 43,
   "id": "6ac92b9d-cc94-48ec-b812-23ea0dc12179",
   "metadata": {},
   "outputs": [
    {
     "data": {
      "text/plain": [
       "array([[ 144,  900,  121, 3025],\n",
       "       [ 121, 2025, 2809,  841],\n",
       "       [  25, 1296, 3136, 3025],\n",
       "       [1024,  144, 3481,  256]])"
      ]
     },
     "execution_count": 43,
     "metadata": {},
     "output_type": "execute_result"
    }
   ],
   "source": [
    "arr**2"
   ]
  },
  {
   "cell_type": "code",
   "execution_count": 44,
   "id": "d110077c-cb7d-416b-9409-8a8947574eb1",
   "metadata": {},
   "outputs": [
    {
     "data": {
      "text/plain": [
       "array([[12, 30, 11, 55],\n",
       "       [11, 45, 53, 29],\n",
       "       [ 5, 36, 56, 55],\n",
       "       [32, 12, 59, 16]])"
      ]
     },
     "execution_count": 44,
     "metadata": {},
     "output_type": "execute_result"
    }
   ],
   "source": [
    "arr"
   ]
  },
  {
   "cell_type": "code",
   "execution_count": 45,
   "id": "a1604825-99a5-4a19-a327-ac24fce5b91d",
   "metadata": {},
   "outputs": [
    {
     "data": {
      "text/plain": [
       "array([[3.46410162, 5.47722558, 3.31662479, 7.41619849],\n",
       "       [3.31662479, 6.70820393, 7.28010989, 5.38516481],\n",
       "       [2.23606798, 6.        , 7.48331477, 7.41619849],\n",
       "       [5.65685425, 3.46410162, 7.68114575, 4.        ]])"
      ]
     },
     "execution_count": 45,
     "metadata": {},
     "output_type": "execute_result"
    }
   ],
   "source": [
    "np.sqrt(arr)"
   ]
  },
  {
   "cell_type": "code",
   "execution_count": 46,
   "id": "2613adff-a09e-4fb3-9da6-61cddf5f3525",
   "metadata": {},
   "outputs": [
    {
     "data": {
      "text/plain": [
       "array([[1.62754791e+05, 1.06864746e+13, 5.98741417e+04, 7.69478527e+23],\n",
       "       [5.98741417e+04, 3.49342711e+19, 1.04137594e+23, 3.93133430e+12],\n",
       "       [1.48413159e+02, 4.31123155e+15, 2.09165950e+24, 7.69478527e+23],\n",
       "       [7.89629602e+13, 1.62754791e+05, 4.20121040e+25, 8.88611052e+06]])"
      ]
     },
     "execution_count": 46,
     "metadata": {},
     "output_type": "execute_result"
    }
   ],
   "source": [
    "np.exp(arr)"
   ]
  },
  {
   "cell_type": "code",
   "execution_count": 47,
   "id": "894312e8-1482-4b17-a815-77d996b27610",
   "metadata": {},
   "outputs": [
    {
     "data": {
      "text/plain": [
       "array([[1.07918125, 1.47712125, 1.04139269, 1.74036269],\n",
       "       [1.04139269, 1.65321251, 1.72427587, 1.462398  ],\n",
       "       [0.69897   , 1.5563025 , 1.74818803, 1.74036269],\n",
       "       [1.50514998, 1.07918125, 1.77085201, 1.20411998]])"
      ]
     },
     "execution_count": 47,
     "metadata": {},
     "output_type": "execute_result"
    }
   ],
   "source": [
    "np.log10(arr)"
   ]
  },
  {
   "cell_type": "code",
   "execution_count": 49,
   "id": "871a66ed-dec8-43d8-899d-edc4529f91bb",
   "metadata": {},
   "outputs": [
    {
     "data": {
      "text/plain": [
       "array([[0.64414354, 0.38074849, 0.66304791, 0.16365073],\n",
       "       [0.96260781, 0.34666184, 0.99175099, 0.2350579 ]])"
      ]
     },
     "execution_count": 49,
     "metadata": {},
     "output_type": "execute_result"
    }
   ],
   "source": [
    "np.random.seed(30)\n",
    "np.random.rand(2,4)"
   ]
  },
  {
   "cell_type": "code",
   "execution_count": null,
   "id": "e25095a1-4de2-45bc-bfae-f31d74541935",
   "metadata": {},
   "outputs": [],
   "source": []
  }
 ],
 "metadata": {
  "kernelspec": {
   "display_name": "Python 3 (ipykernel)",
   "language": "python",
   "name": "python3"
  },
  "language_info": {
   "codemirror_mode": {
    "name": "ipython",
    "version": 3
   },
   "file_extension": ".py",
   "mimetype": "text/x-python",
   "name": "python",
   "nbconvert_exporter": "python",
   "pygments_lexer": "ipython3",
   "version": "3.11.4"
  }
 },
 "nbformat": 4,
 "nbformat_minor": 5
}
